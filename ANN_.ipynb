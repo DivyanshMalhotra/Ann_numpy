{
 "cells": [
  {
   "cell_type": "code",
   "execution_count": 1,
   "metadata": {
    "collapsed": true
   },
   "outputs": [],
   "source": [
    "import numpy as np\n",
    "import pandas as pd"
   ]
  },
  {
   "cell_type": "code",
   "execution_count": 3,
   "metadata": {},
   "outputs": [
    {
     "name": "stdout",
     "output_type": "stream",
     "text": [
      "(20000, 20)\n"
     ]
    }
   ],
   "source": [
    "data=pd.read_csv(\"data1.csv\",header=None)\n",
    "#print(data)\n",
    "label=pd.read_csv(\"label1.csv\",header=None)\n",
    "#print(label)\n",
    "#Dimension of the data array.\n",
    "print(data.shape)\n",
    "#ans:Because it is a matrix of 20000*20\n",
    "#ans:Each row signifies a  datapoint or the value of each feature of every house."
   ]
  },
  {
   "cell_type": "code",
   "execution_count": 5,
   "metadata": {},
   "outputs": [
    {
     "name": "stdout",
     "output_type": "stream",
     "text": [
      "0    4\n",
      "dtype: int64\n",
      "2\n"
     ]
    }
   ],
   "source": [
    "npdata=np.array(data)\n",
    "nplabel=np.array(label)\n",
    "#print(label.shape)\n",
    "p=label.max()\n",
    "print(p)\n",
    "n_values = np.max(nplabel)+1\n",
    "#print(np.max(npdf2))\n",
    "oneHotDash=np.eye(n_values)[nplabel]\n",
    "#print(oneHotDash)\n",
    "oneHot=np.reshape(oneHotDash,(20000,5))\n",
    "print(oneHot.ndim)\n",
    "#print(npdata.shape)\n",
    "#print(nplabel.shape)\n"
   ]
  },
  {
   "cell_type": "code",
   "execution_count": 7,
   "metadata": {},
   "outputs": [
    {
     "name": "stdout",
     "output_type": "stream",
     "text": [
      "(2000, 20)\n",
      "(2000, 20)\n"
     ]
    }
   ],
   "source": [
    "\n",
    "\n",
    "train_x = npdata[:int(0.8*len(npdata))]\n",
    "train_y = oneHot[:int(0.8*len(npdata))]\n",
    "\n",
    "test_x = npdata[int(0.8*len(npdata)):int(0.9*len(npdata)):]\n",
    "test_y = oneHot[int(0.8*len(npdata)):int(0.9*len(npdata)):]\n",
    "print(test_x.shape)\n",
    "\n",
    "\n",
    "vali_x = npdata[int(0.9*len(npdata)):]\n",
    "vali_y = oneHot[int(0.9*len(npdata)):]\n",
    "print(test_x.shape)\n",
    "\n"
   ]
  },
  {
   "cell_type": "code",
   "execution_count": 9,
   "metadata": {},
   "outputs": [
    {
     "name": "stdout",
     "output_type": "stream",
     "text": [
      "20\n"
     ]
    }
   ],
   "source": [
    "h=input()#number of neurons in the hidden layer\n",
    "h=int(h)\n"
   ]
  },
  {
   "cell_type": "code",
   "execution_count": 10,
   "metadata": {},
   "outputs": [
    {
     "name": "stdout",
     "output_type": "stream",
     "text": [
      "[-0.05671413  0.12137659 -0.03891032 -0.10167304 -0.0879622   0.23876695\n",
      "  0.33991098  0.18552808 -0.02080917 -0.25516953  0.08388609  0.15539838\n",
      " -0.10283617 -0.71759809 -0.1018457   0.20639455 -0.43190425  0.17610173\n",
      "  0.20035394  0.07043727]\n",
      "[ 0.14532854  0.53264195  1.05528024 -0.20638856  0.77876107]\n"
     ]
    }
   ],
   "source": [
    "std1=(1/np.sqrt(h))#standard deviation of initialiing first weights\n",
    "std2=(1/np.sqrt(5))\n",
    "b1=np.random.normal(0,std1,(h,))#gaussian random assignment of weight\n",
    "b2=np.random.normal(0,std2,(5,))\n",
    "print(b1)\n",
    "print(b2)"
   ]
  },
  {
   "cell_type": "code",
   "execution_count": 11,
   "metadata": {},
   "outputs": [
    {
     "name": "stdout",
     "output_type": "stream",
     "text": [
      "w1\n",
      " [[-0.25107185  0.57803986  0.246716   -0.01753495  0.67565575 -0.05984461\n",
      "  -0.08195019 -0.03829917  0.13422871  0.0607862   0.00953621 -0.0832498\n",
      "   0.11572143  0.07629937  0.24556524 -0.00661933 -0.19717914 -0.12310993\n",
      "  -0.04203329 -0.00949176]\n",
      " [-0.05565968  0.20609825 -0.09047342  0.3934587   0.03169416 -0.12305629\n",
      "   0.10213025  0.06943487 -0.31858849  0.08214053  0.00652831 -0.15029701\n",
      "   0.12888276  0.05949027 -0.01175319 -0.25318336 -0.14557696 -0.63073929\n",
      "  -0.01856034  0.11318588]\n",
      " [-0.08778521 -0.0238397  -0.00321945 -0.0651157  -0.20621177  0.05158921\n",
      "  -0.21564464  0.11661432 -0.00696249  0.1101311  -0.08831965 -0.0352457\n",
      "   0.04915042  0.13553719  0.37741038 -0.21295924  0.45558168 -0.37009665\n",
      "  -0.12589265 -0.24351703]\n",
      " [ 0.03354704 -0.07129944 -0.33516638 -0.25487546 -0.06295031 -0.39601939\n",
      "   0.51411467  0.36216061 -0.14721274 -0.05653204  0.15754333  0.20815618\n",
      "   0.26659538  0.07072427  0.35788059  0.03909633  0.04511868  0.28404003\n",
      "  -0.48742692 -0.19079553]\n",
      " [-0.19550668  0.09197842 -0.29301737  0.01534888 -0.02035167  0.37937118\n",
      "   0.06797727  0.11533008 -0.13308077 -0.27587224  0.09217639  0.1602222\n",
      "  -0.00090046 -0.36958641  0.04175083 -0.04876023  0.18840323  0.20295904\n",
      "   0.03388151  0.01591033]\n",
      " [-0.00558959 -0.18000933  0.17639328 -0.11557908 -0.34915647  0.02311883\n",
      "   0.18898461 -0.54865222 -0.25910473 -0.06472984 -0.2209163   0.10296796\n",
      "  -0.34650256  0.04721768  0.23805776 -0.4430346  -0.49120004  0.14145604\n",
      "  -0.15242925  0.2160383 ]\n",
      " [-0.06472679 -0.22088962 -0.01991876 -0.32199917  0.06660121  0.33679577\n",
      "  -0.12115667 -0.2011312  -0.10538198 -0.1741955   0.05071747  0.13462096\n",
      "  -0.15271635  0.04507255 -0.41901575  0.28812243  0.29589242  0.01409906\n",
      "   0.08896872 -0.15454931]\n",
      " [ 0.05187817 -0.25738838  0.08069663  0.11749897  0.07322326 -0.34253125\n",
      "  -0.04316425 -0.46528578  0.09873749 -0.09435213  0.27292468 -0.30279363\n",
      "  -0.30151552  0.22672338 -0.37096197 -0.14542182  0.26821571  0.25150117\n",
      "  -0.06837516  0.17163337]\n",
      " [-0.30539415  0.22895057  0.06312152 -0.0302038   0.42564271  0.06268547\n",
      "  -0.12255282 -0.05896802  0.0429828   0.12619884 -0.08652849 -0.12232839\n",
      "   0.16367565 -0.18400932  0.04866969 -0.13740364  0.04323922 -0.16692312\n",
      "   0.04442441  0.07636134]\n",
      " [-0.21710528  0.00270049  0.1836174  -0.24759537 -0.01535307 -0.00642478\n",
      "  -0.22239599 -0.09016325  0.026399    0.21945391  0.17136949  0.25877871\n",
      "   0.06941405 -0.32232499 -0.05029663  0.20368817 -0.17242327  0.2196786\n",
      "   0.19427169 -0.39588828]\n",
      " [ 0.05278034 -0.1390843   0.05223303  0.08453588  0.0030245   0.10642567\n",
      "  -0.08788529  0.31896567  0.11021745 -0.12353312 -0.1256021   0.12687743\n",
      "   0.29204028  0.24322358 -0.17228351  0.12310112  0.19776371  0.42837702\n",
      "   0.0136553   0.02128208]\n",
      " [-0.25277128  0.18800176  0.23607907 -0.18282535 -0.32914077 -0.2397844\n",
      "  -0.080933   -0.17300789  0.33128993  0.04522692  0.27919633 -0.24390403\n",
      "  -0.06473431 -0.38776477 -0.13476702 -0.35390875  0.16596717  0.13105269\n",
      "   0.0124739  -0.42153652]\n",
      " [ 0.21232861  0.35929963  0.34379546  0.15484308 -0.20387639 -0.07715221\n",
      "   0.17217442 -0.23679126  0.48403992 -0.38593435 -0.17326718 -0.23042474\n",
      "   0.14114339 -0.32848645  0.15980179 -0.09908661 -0.09942322  0.18130693\n",
      "  -0.41249218  0.39498636]\n",
      " [-0.0680189   0.11507677 -0.23064453  0.03006765  0.22924671  0.15497843\n",
      "   0.25492999 -0.15823333 -0.14322788  0.23661999 -0.27860784  0.0296311\n",
      "   0.23181905 -0.48723149 -0.37056264 -0.17042502 -0.1144636  -0.77162019\n",
      "  -0.0557221  -0.69709656]\n",
      " [-0.03415745 -0.16901126 -0.05153568  0.16262337  0.32095564 -0.18290958\n",
      "   0.21715807  0.11245357 -0.06405152 -0.19898694  0.02124356  0.00964696\n",
      "   0.20975942  0.21934257 -0.37165136  0.31377635 -0.02831547  0.07637932\n",
      "  -0.08519571  0.47613445]\n",
      " [ 0.06035202  0.18400534  0.07577559  0.47679736 -0.31816796  0.10138392\n",
      "  -0.17113554  0.39676719  0.06969446  0.42949925 -0.02945801  0.28610888\n",
      "   0.19514361 -0.25330128 -0.31482958 -0.03569614 -0.02125147 -0.29880572\n",
      "   0.27143064  0.29365453]\n",
      " [ 0.15046356  0.2313389   0.11565317 -0.36968374  0.17455006 -0.00166425\n",
      "  -0.06779674  0.10282438  0.0505709  -0.1334123   0.10792589  0.22080265\n",
      "  -0.18987624  0.1638749  -0.38670789  0.12049099  0.36659569  0.33534459\n",
      "   0.19196621  0.04736784]\n",
      " [-0.34921855 -0.27713387 -0.16255786  0.28296949  0.15729322  0.16575502\n",
      "   0.25733696  0.02492007  0.0324643   0.06040678  0.07194335 -0.25827052\n",
      "  -0.29724863  0.16032809  0.23041527 -0.22256889  0.19413378  0.28434124\n",
      "  -0.29492782  0.25815705]\n",
      " [-0.0842316   0.03017578  0.28334288 -0.3801685  -0.13679136 -0.4294676\n",
      "   0.10654701 -0.2928975  -0.09055973  0.10306305 -0.27003936 -0.06043933\n",
      "   0.31226002 -0.12762141 -0.01743362 -0.2546013  -0.08075553 -0.09283969\n",
      "  -0.14666185  0.17297234]\n",
      " [-0.05883917 -0.16852306 -0.1776776  -0.31256217  0.13067003  0.28298123\n",
      "   0.03278734 -0.09714237 -0.48276553 -0.1187996   0.12658171 -0.4265212\n",
      "   0.39768105 -0.14347592 -0.01059884  0.17931362  0.04227098 -0.14026855\n",
      "  -0.18019396  0.17817205]]\n",
      "w2\n",
      " [[  8.83191892e-02   7.18730654e-04   1.86702908e-01  -3.53607280e-01\n",
      "   -1.66690725e-01]\n",
      " [ -9.00207930e-02  -1.16852266e-01  -6.03226981e-02  -1.63775984e-01\n",
      "   -8.79088694e-02]\n",
      " [ -1.62864237e-02   1.61835209e-01  -3.53899799e-01  -2.02964216e-01\n",
      "    3.04273480e-01]\n",
      " [ -2.32467436e-01   3.05893064e-01   3.38164693e-02   1.86749229e-01\n",
      "   -4.47933686e-01]\n",
      " [  1.58782887e-01  -3.88521251e-01   6.66827947e-02  -1.80638062e-01\n",
      "   -2.37605570e-01]\n",
      " [ -4.16941966e-01  -4.25668473e-01   2.56498642e-01   2.99490546e-01\n",
      "   -3.83316758e-01]\n",
      " [  2.31073122e-01   5.11610472e-01   3.47998938e-01  -9.72856123e-02\n",
      "   -3.34757713e-01]\n",
      " [  2.47887960e-01  -5.85433123e-02  -2.28872441e-01  -9.09991818e-04\n",
      "    1.99678159e-01]\n",
      " [  3.27488457e-02  -2.45033454e-01  -1.30789566e-01  -2.52141145e-01\n",
      "    1.32607571e-01]\n",
      " [  1.13674435e-01   9.21306625e-02   3.00153890e-01  -2.80983878e-01\n",
      "   -4.56980269e-01]\n",
      " [ -5.47904631e-02  -2.76787846e-02  -1.54713833e-02  -1.49275341e-02\n",
      "    1.08771460e-01]\n",
      " [  3.65735066e-01   5.78899358e-02  -4.91800643e-01  -1.55640266e-01\n",
      "    3.58821721e-01]\n",
      " [  1.73233842e-02  -2.27177891e-01  -1.86631936e-01   2.99330416e-01\n",
      "    8.88920331e-02]\n",
      " [  2.83069022e-02   2.86819565e-01   1.82116858e-01  -3.46927702e-02\n",
      "   -1.28801591e-01]\n",
      " [ -4.34584513e-01  -2.43785591e-01   1.75326552e-01   1.24587858e-01\n",
      "   -2.56047188e-02]\n",
      " [ -3.86185011e-01  -3.19818745e-01   1.81123914e-02   2.38872558e-01\n",
      "    1.22531265e-01]\n",
      " [  1.87452342e-01  -4.92476578e-01  -9.53913331e-02   2.98973602e-02\n",
      "   -3.12732363e-01]\n",
      " [  1.41891443e-01   2.67070343e-01   2.97514862e-01   1.18631051e-01\n",
      "   -1.58513476e-01]\n",
      " [ -1.48969327e-01  -2.21557703e-02  -1.29257950e-02   8.15446436e-02\n",
      "    1.19971961e-02]\n",
      " [  2.16644234e-01  -4.18191040e-04  -1.69319558e-01  -1.03664659e-01\n",
      "   -3.91471435e-01]]\n",
      "(20, 20)\n",
      "(20, 5)\n",
      "0.22360679775\n"
     ]
    }
   ],
   "source": [
    "std1=(1/np.sqrt(20))#standard deviation of initialiing first weights\n",
    "std2=(1/np.sqrt(h))#standard deviation of initialiing second weights\n",
    "w1=np.random.normal(0,std1,(20,h))#gaussian random assignment of weight\n",
    "w2=np.random.normal(0,std2,(h,5))#gaussian random assignment of weights \n",
    "#print(\"std1\\n\",std1,\"std2\\n\",std2)\n",
    "print(\"w1\\n\",w1)\n",
    "print(\"w2\\n\",w2)\n",
    "print(w1.shape)\n",
    "print(w2.shape)\n",
    "print(std1)"
   ]
  },
  {
   "cell_type": "code",
   "execution_count": 13,
   "metadata": {
    "collapsed": true
   },
   "outputs": [],
   "source": [
    "def actFunc(haha,choose):\n",
    "    if choose==1:#Sigmoid\n",
    "        return (1/(1+np.exp(haha)))\n",
    "    elif choose==2:#ReLU\n",
    "        return (np.max(haha,0))\n",
    "    elif choose==3:#tanh\n",
    "        return np.tanh(haha)\n",
    "    else:#SoftMax\n",
    "        e_x = np.exp(haha - np.max(haha))\n",
    "        return e_x / e_x.sum()\n",
    "       \n",
    "    "
   ]
  },
  {
   "cell_type": "code",
   "execution_count": 14,
   "metadata": {
    "collapsed": true
   },
   "outputs": [],
   "source": [
    "def forwardFunc(trainData):\n",
    "    a0=trainData\n",
    "    z1=np.dot(a0,w1)+b1\n",
    "    a1=actFunc(z1,3)\n",
    "    z2=np.dot(a1,w2)+b2\n",
    "    a2=actFunc(z2,4) \n",
    "    return a0,z1,a1,z2,a2"
   ]
  },
  {
   "cell_type": "code",
   "execution_count": 15,
   "metadata": {},
   "outputs": [
    {
     "name": "stdout",
     "output_type": "stream",
     "text": [
      "20\n"
     ]
    }
   ],
   "source": [
    "epochs=int(input())"
   ]
  },
  {
   "cell_type": "code",
   "execution_count": 16,
   "metadata": {
    "collapsed": true
   },
   "outputs": [],
   "source": [
    " batch=1600"
   ]
  },
  {
   "cell_type": "code",
   "execution_count": 17,
   "metadata": {
    "collapsed": true
   },
   "outputs": [],
   "source": [
    "\n",
    "alpha=0.0001"
   ]
  },
  {
   "cell_type": "code",
   "execution_count": 18,
   "metadata": {
    "collapsed": true
   },
   "outputs": [],
   "source": [
    "def cost(ytrue,train):\n",
    "     return -(train*np.log(ytrue) + (1-train)*np.log(1-ytrue))\n"
   ]
  },
  {
   "cell_type": "code",
   "execution_count": 24,
   "metadata": {
    "collapsed": true
   },
   "outputs": [],
   "source": [
    "def accuracy(ytrue,trainlabel):\n",
    "    l=len(ytrue)\n",
    "    true=np.argmax(trainlabel,axis=1)\n",
    "    predict=np.argmax(ytrue,axis=1)\n",
    "    count=0\n",
    "    for i in range(l):\n",
    "        if(true[i]==predict[i]):\n",
    "            count=count+1\n",
    "    return ((count/float(l))*100)\n",
    "    \n",
    "    \n",
    " \n",
    " \n",
    "\n"
   ]
  },
  {
   "cell_type": "code",
   "execution_count": 25,
   "metadata": {},
   "outputs": [
    {
     "name": "stdout",
     "output_type": "stream",
     "text": [
      "(20,)\n"
     ]
    }
   ],
   "source": [
    "print(b1.shape)\n",
    "    "
   ]
  },
  {
   "cell_type": "code",
   "execution_count": 26,
   "metadata": {},
   "outputs": [
    {
     "name": "stdout",
     "output_type": "stream",
     "text": [
      "testing accuracy\n",
      "75.2125\n",
      "validating accuracy\n",
      "75.1\n",
      "testing accuracy\n",
      "75.23125\n",
      "validating accuracy\n",
      "75.14999999999999\n",
      "testing accuracy\n",
      "75.28125\n",
      "validating accuracy\n",
      "75.1\n",
      "testing accuracy\n",
      "75.3375\n",
      "validating accuracy\n",
      "75.14999999999999\n",
      "testing accuracy\n",
      "75.36874999999999\n",
      "validating accuracy\n",
      "75.2\n",
      "testing accuracy\n",
      "75.35625\n",
      "validating accuracy\n",
      "75.2\n",
      "testing accuracy\n",
      "75.4\n",
      "validating accuracy\n",
      "75.2\n",
      "testing accuracy\n",
      "75.4\n",
      "validating accuracy\n",
      "75.2\n",
      "testing accuracy\n",
      "75.425\n",
      "validating accuracy\n",
      "75.14999999999999\n",
      "testing accuracy\n",
      "75.41250000000001\n",
      "validating accuracy\n",
      "75.2\n",
      "testing accuracy\n",
      "75.40625\n",
      "validating accuracy\n",
      "75.14999999999999\n",
      "testing accuracy\n",
      "75.40625\n",
      "validating accuracy\n",
      "75.05\n",
      "testing accuracy\n",
      "75.40625\n",
      "validating accuracy\n",
      "75.1\n",
      "testing accuracy\n",
      "75.41250000000001\n",
      "validating accuracy\n",
      "75.1\n",
      "testing accuracy\n",
      "75.41250000000001\n",
      "validating accuracy\n",
      "75.2\n",
      "testing accuracy\n",
      "75.44999999999999\n",
      "validating accuracy\n",
      "75.1\n",
      "testing accuracy\n",
      "75.4375\n",
      "validating accuracy\n",
      "75.2\n",
      "testing accuracy\n",
      "75.41875\n",
      "validating accuracy\n",
      "75.1\n",
      "testing accuracy\n",
      "75.44375\n",
      "validating accuracy\n",
      "75.2\n",
      "testing accuracy\n",
      "75.44375\n",
      "validating accuracy\n",
      "75.3\n",
      "testing accuracy\n",
      "75.1\n"
     ]
    }
   ],
   "source": [
    " for i in range(epochs):\n",
    "    for j in range(int(16000/batch)):\n",
    "        a0,z1,a1,z2,a2=forwardFunc(train_x[j*batch:(j+1)*batch,:])\n",
    "        y=a2\n",
    "        labelbatch=train_y[j*batch:(j+1)*batch,:]\n",
    "        del2=(y-labelbatch)\n",
    "        del1=np.dot(del2,w2.T)*(1-pow(actFunc(z1,3),2))\n",
    "        dcdw1=np.dot(del1.T,a0)\n",
    "        dcdw2=np.dot(del2.T,a1)\n",
    "        dcdb1=np.sum((del1),axis=0)\n",
    "        dcdb2=np.sum((del2),axis=0)\n",
    "        w1=w1-alpha*(dcdw1.T)\n",
    "        w2=w2-alpha*(dcdw2.T)\n",
    "        b1=b1-alpha*(dcdb1)\n",
    "        b2=b2-alpha*(dcdb2)\n",
    "    a0,z1,a1,z2,a2=forwardFunc(train_x)\n",
    "    ytrue=a2\n",
    "    c=np.sum(cost(ytrue,train_y))/16000\n",
    "    #print(c)\n",
    "    print('testing accuracy')\n",
    "    accuracy_t=(accuracy(ytrue,train_y))\n",
    "    print(accuracy_t)\n",
    "    \n",
    "    a0,z1,a1,z2,a2=forwardFunc(vali_x)\n",
    "    valitrue=a2\n",
    "    print('validating accuracy')\n",
    "    accuracy_v=(accuracy(valitrue,vali_y))\n",
    "    print(accuracy_v)\n",
    "a0,z1,a1,z2,a2=forwardFunc(test_x)\n",
    "testtrue=a2\n",
    "print(\"testing accuracy\")\n",
    "accuracy_t=(accuracy(testtrue,test_y))\n",
    "print(accuracy_t)"
   ]
  },
  {
   "cell_type": "code",
   "execution_count": 47,
   "metadata": {},
   "outputs": [
    {
     "name": "stdout",
     "output_type": "stream",
     "text": [
      "(20, 20)\n"
     ]
    }
   ],
   "source": [
    "print(dcdw1.shape)"
   ]
  },
  {
   "cell_type": "code",
   "execution_count": null,
   "metadata": {
    "collapsed": true
   },
   "outputs": [],
   "source": []
  },
  {
   "cell_type": "code",
   "execution_count": null,
   "metadata": {
    "collapsed": true
   },
   "outputs": [],
   "source": []
  }
 ],
 "metadata": {
  "kernelspec": {
   "display_name": "Python 3",
   "language": "python",
   "name": "python3"
  },
  "language_info": {
   "codemirror_mode": {
    "name": "ipython",
    "version": 3
   },
   "file_extension": ".py",
   "mimetype": "text/x-python",
   "name": "python",
   "nbconvert_exporter": "python",
   "pygments_lexer": "ipython3",
   "version": "3.6.6"
  }
 },
 "nbformat": 4,
 "nbformat_minor": 2
}
